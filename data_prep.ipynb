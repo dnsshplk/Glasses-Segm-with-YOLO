{
 "cells": [
  {
   "cell_type": "code",
   "execution_count": 11,
   "metadata": {},
   "outputs": [],
   "source": [
    "import os\n",
    "import cv2\n",
    "import numpy as np"
   ]
  },
  {
   "cell_type": "code",
   "execution_count": 18,
   "metadata": {},
   "outputs": [],
   "source": [
    "mask_dir = r'data2\\val\\masks'\n",
    "labels_dir = r'data2\\val\\labels'\n",
    "imgs_dir = r'data2\\val\\images'"
   ]
  },
  {
   "cell_type": "code",
   "execution_count": null,
   "metadata": {},
   "outputs": [],
   "source": [
    "os.makedirs(labels_dir, exist_ok=True)\n",
    "\n",
    "for mask_name, img_name  in zip(os.listdir(mask_dir), os.listdir(imgs_dir)):\n",
    "    mask_path = os.path.join(mask_dir, mask_name)\n",
    "\n",
    "    mask = cv2.imread(mask_path, cv2.IMREAD_GRAYSCALE)\n",
    "    _, mask = cv2.threshold(mask, 1, 255, cv2.THRESH_BINARY)\n",
    "\n",
    "    H, W = mask.shape\n",
    "\n",
    "    contours, hierarchy = cv2.findContours(mask, cv2.RETR_CCOMP, cv2.CHAIN_APPROX_SIMPLE)\n",
    "\n",
    "    external_polygons = []\n",
    "    internal_polygons = []\n",
    "\n",
    "    for idx, cnt in enumerate(contours):\n",
    "        if cv2.contourArea(cnt) > 200:\n",
    "            polygon = []\n",
    "            for point in cnt:\n",
    "                x, y = point[0]\n",
    "                polygon.append(x / W)\n",
    "                polygon.append(y / H)\n",
    "            if hierarchy[0][idx][3] == -1: \n",
    "                external_polygons.append(polygon)\n",
    "            else:  \n",
    "                internal_polygons.append(polygon)\n",
    "\n",
    "    output_path = os.path.join(labels_dir, f\"{img_name[:-4]}.txt\")\n",
    "    with open(output_path, 'w') as f:\n",
    "        for polygon in external_polygons:\n",
    "            f.write('0 ')\n",
    "            f.write(' '.join(map(str, polygon)))\n",
    "            f.write('\\n')\n",
    "        for polygon in internal_polygons:\n",
    "            f.write('1 ')\n",
    "            f.write(' '.join(map(str, polygon)))\n",
    "            f.write('\\n')\n"
   ]
  },
  {
   "cell_type": "code",
   "execution_count": 50,
   "metadata": {},
   "outputs": [],
   "source": [
    "\n",
    "# works fine, not used\n",
    "def visualize_polygons(image_shape, txt_file):\n",
    "    H, W = image_shape\n",
    "    image = np.zeros((H, W, 3), dtype=np.uint8)\n",
    "    \n",
    "    with open(txt_file, 'r') as f:\n",
    "        lines = f.readlines()\n",
    "    \n",
    "    for line in lines:\n",
    "        if line.strip():\n",
    "            points = list(map(float, line.strip().split()[1:]))\n",
    "            polygon = [(int(points[i] * W), int(points[i+1] * H)) for i in range(0, len(points), 2)]\n",
    "            \n",
    "            print(line.strip().split()[0])\n",
    "            if line.strip().split()[0] == '0':\n",
    "                color = (0, 255, 0)\n",
    "            else:\n",
    "                color = (255, 0, 0)\n",
    "            cv2.polylines(image, [np.array(polygon, dtype=np.int32)], isClosed=True, color=color, thickness=2)\n",
    "    \n",
    "    cv2.imshow('polygon', image)\n",
    "    cv2.waitKey(0)\n",
    "    cv2.destroyAllWindows()"
   ]
  },
  {
   "cell_type": "code",
   "execution_count": null,
   "metadata": {},
   "outputs": [],
   "source": [
    "# visualize_polygons((512, 512), r'data\\train\\labels\\15085_1_mask.txt')"
   ]
  }
 ],
 "metadata": {
  "kernelspec": {
   "display_name": "dlenv",
   "language": "python",
   "name": "python3"
  },
  "language_info": {
   "codemirror_mode": {
    "name": "ipython",
    "version": 3
   },
   "file_extension": ".py",
   "mimetype": "text/x-python",
   "name": "python",
   "nbconvert_exporter": "python",
   "pygments_lexer": "ipython3",
   "version": "3.9.18"
  }
 },
 "nbformat": 4,
 "nbformat_minor": 2
}
