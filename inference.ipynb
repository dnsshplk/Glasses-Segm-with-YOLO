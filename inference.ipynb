{
 "cells": [
  {
   "cell_type": "code",
   "execution_count": 1,
   "metadata": {},
   "outputs": [],
   "source": [
    "from ultralytics import YOLO"
   ]
  },
  {
   "cell_type": "code",
   "execution_count": 2,
   "metadata": {},
   "outputs": [],
   "source": [
    "model = YOLO(r'res\\best.pt') "
   ]
  },
  {
   "cell_type": "code",
   "execution_count": 3,
   "metadata": {},
   "outputs": [],
   "source": [
    "import os\n",
    "import cv2\n",
    "import numpy as np"
   ]
  },
  {
   "cell_type": "code",
   "execution_count": 5,
   "metadata": {},
   "outputs": [
    {
     "name": "stdout",
     "output_type": "stream",
     "text": [
      "\n",
      "0: 512x512 1 glasses, 2 lenss, 9.8ms\n",
      "Speed: 1.0ms preprocess, 9.8ms inference, 3.0ms postprocess per image at shape (1, 3, 512, 512)\n",
      "\n",
      "0: 512x512 1 glasses, 2 lenss, 9.5ms\n",
      "Speed: 1.0ms preprocess, 9.5ms inference, 2.0ms postprocess per image at shape (1, 3, 512, 512)\n",
      "\n",
      "0: 512x512 1 glasses, 2 lenss, 8.5ms\n",
      "Speed: 1.0ms preprocess, 8.5ms inference, 2.0ms postprocess per image at shape (1, 3, 512, 512)\n",
      "\n",
      "0: 512x512 1 glasses, 2 lenss, 10.5ms\n",
      "Speed: 1.0ms preprocess, 10.5ms inference, 2.0ms postprocess per image at shape (1, 3, 512, 512)\n",
      "\n",
      "0: 512x512 1 glasses, 12.5ms\n",
      "Speed: 2.0ms preprocess, 12.5ms inference, 3.0ms postprocess per image at shape (1, 3, 512, 512)\n",
      "\n",
      "0: 512x512 1 glasses, 2 lenss, 9.1ms\n",
      "Speed: 1.0ms preprocess, 9.1ms inference, 2.0ms postprocess per image at shape (1, 3, 512, 512)\n",
      "\n",
      "0: 512x512 1 glasses, 2 lenss, 9.5ms\n",
      "Speed: 1.0ms preprocess, 9.5ms inference, 2.0ms postprocess per image at shape (1, 3, 512, 512)\n",
      "\n",
      "0: 512x512 1 glasses, 2 lenss, 8.5ms\n",
      "Speed: 2.0ms preprocess, 8.5ms inference, 2.0ms postprocess per image at shape (1, 3, 512, 512)\n",
      "\n",
      "0: 512x512 1 glasses, 2 lenss, 9.5ms\n",
      "Speed: 1.0ms preprocess, 9.5ms inference, 1.0ms postprocess per image at shape (1, 3, 512, 512)\n",
      "\n",
      "0: 512x512 1 glasses, 2 lenss, 12.0ms\n",
      "Speed: 2.0ms preprocess, 12.0ms inference, 2.0ms postprocess per image at shape (1, 3, 512, 512)\n"
     ]
    }
   ],
   "source": [
    "input_dir = r'data2\\test\\images'\n",
    "output_dir = r'resultmasks'\n",
    "\n",
    "os.makedirs(output_dir, exist_ok=True)\n",
    "\n",
    "for image_file in os.listdir(input_dir):\n",
    "    image_path = os.path.join(input_dir, image_file)\n",
    "\n",
    "    image = cv2.imread(image_path)\n",
    "\n",
    "    results = model.predict(image)\n",
    "\n",
    "    masks = results[0].masks   \n",
    "        \n",
    "    masks = results[0].masks.data.cpu().numpy() \n",
    "    classes = results[0].boxes.cls.cpu().numpy()  \n",
    "\n",
    "    mask_glasses = np.zeros((image.shape[0], image.shape[1]), dtype=np.uint8)\n",
    "    mask_lenses = np.zeros((image.shape[0], image.shape[1]), dtype=np.uint8)\n",
    "        \n",
    "    for mask, cls in zip(masks, classes):\n",
    "        mask_uint8 = (mask * 255).astype(np.uint8)\n",
    "        if cls == 0:  \n",
    "            mask_glasses = np.maximum(mask_glasses, mask_uint8)\n",
    "        elif cls == 1:  \n",
    "            mask_lenses = np.maximum(mask_lenses, mask_uint8)\n",
    "        \n",
    "    result_mask = mask_glasses - mask_lenses\n",
    "        \n",
    "    result_mask = cv2.cvtColor(result_mask, cv2.COLOR_GRAY2BGR)\n",
    "    mask_output_path = os.path.join(output_dir, f\"{image_file}_mask.png\")\n",
    "    img_output_path = os.path.join(output_dir, image_file)\n",
    "    \n",
    "    result_image = np.concatenate((image, result_mask), axis = 1)\n",
    "\n",
    "    cv2.imwrite(mask_output_path, result_image)\n",
    "    # cv2.imwrite(img_output_path, image)"
   ]
  },
  {
   "cell_type": "code",
   "execution_count": null,
   "metadata": {},
   "outputs": [],
   "source": []
  }
 ],
 "metadata": {
  "kernelspec": {
   "display_name": "dlenv",
   "language": "python",
   "name": "python3"
  },
  "language_info": {
   "codemirror_mode": {
    "name": "ipython",
    "version": 3
   },
   "file_extension": ".py",
   "mimetype": "text/x-python",
   "name": "python",
   "nbconvert_exporter": "python",
   "pygments_lexer": "ipython3",
   "version": "3.9.18"
  }
 },
 "nbformat": 4,
 "nbformat_minor": 2
}
